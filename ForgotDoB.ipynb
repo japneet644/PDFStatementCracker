{
 "cells": [
  {
   "cell_type": "code",
   "execution_count": 9,
   "id": "35b3c2ae",
   "metadata": {},
   "outputs": [
    {
     "name": "stdout",
     "output_type": "stream",
     "text": [
      "!! Program Running Successfully !!\n"
     ]
    }
   ],
   "source": [
    "# 1: Install pdfplumber from terminal : `pip3 install pdfplumber`\n",
    "# 2: Save bank statement to a folder as `savings_bank_account_statement.pdf`\n",
    "# 3: Password is of the format: <last 5 digit of a mobile number><dob>\n",
    "# 4: Download `SBI-PDF-Statement-cracker.py` file and save to the same folder\n",
    "# 5: Run this program from terminal as `python3 SBI-PDF-Statement-cracker.py`\n",
    "\n",
    "\n",
    "import pdfplumber\n",
    "mobno = '12345' # mobile number value is randomized for privacy\n",
    "for i in range (1,32):\n",
    "    for j in range(1,13):\n",
    "        pwd = mobno + str(i).zfill(2) + str(j).zfill(2) + '99'\n",
    "        # print(pwd)\n",
    "        try:\n",
    "            with pdfplumber.open(r'savings_bank_account_statement.pdf', password = pwd) as pdf:\n",
    "                first_page = pdf.pages[0]\n",
    "                print(first_page.extract_text())\n",
    "                print(str(pwd) + ' is the password')\n",
    "                break\n",
    "        except:\n",
    "        # print(str(pwd) + ' didnt work')\n",
    "            pass\n",
    "\n",
    "print(\"!! Program Running Successfully !!\")\n",
    "\n"
   ]
  },
  {
   "cell_type": "code",
   "execution_count": null,
   "id": "1fe09d9b",
   "metadata": {},
   "outputs": [],
   "source": []
  }
 ],
 "metadata": {
  "kernelspec": {
   "display_name": "Python 3 (ipykernel)",
   "language": "python",
   "name": "python3"
  },
  "language_info": {
   "codemirror_mode": {
    "name": "ipython",
    "version": 3
   },
   "file_extension": ".py",
   "mimetype": "text/x-python",
   "name": "python",
   "nbconvert_exporter": "python",
   "pygments_lexer": "ipython3",
   "version": "3.10.9"
  }
 },
 "nbformat": 4,
 "nbformat_minor": 5
}
